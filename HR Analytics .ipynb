{
 "cells": [
  {
   "cell_type": "code",
   "execution_count": 6,
   "id": "3a8669ab",
   "metadata": {},
   "outputs": [],
   "source": [
    "import pandas as pd\n",
    "import numpy as np\n",
    "import matplotlib.pyplot as plt"
   ]
  },
  {
   "cell_type": "code",
   "execution_count": 7,
   "id": "a45c8ae2",
   "metadata": {},
   "outputs": [],
   "source": [
    "df = pd.read_csv('C:\\\\Users\\\\Алексей\\\\Downloads\\\\Kaggle\\\\HR Analytics_Job Change of DS\\\\aug_train.csv')"
   ]
  },
  {
   "cell_type": "markdown",
   "id": "fdcdd86a",
   "metadata": {},
   "source": [
    "###### enrolle_id : уникальный идентификатор кандидата\n",
    "###### city: код города\n",
    "###### city_ development _index : индекс развития города (масштабированный)\n",
    "###### gender: пол кандидата\n",
    "###### relevent_experience: соответствующий опыт кандидата\n",
    "###### enrolled_university: тип зачисленного университетского курса, если таковой имеется\n",
    "###### education_level: уровень образования кандидата\n",
    "###### major_discipline : Образование, основная дисциплина кандидата\n",
    "###### experience: Общий опыт кандидата в годах\n",
    "###### company_size: Количество сотрудников в компании текущего работодателя\n",
    "###### company_type : Тип текущего работодателя\n",
    "###### last_new_job: разница в годах между предыдущей работой и текущей\n",
    "###### training_hours: часы обучения завершены\n",
    "###### target: 0 – Не ищу смену работы, 1 – Ищу смену работы"
   ]
  },
  {
   "cell_type": "markdown",
   "id": "1e4cba9a",
   "metadata": {},
   "source": [
    "#### Задание\n",
    "- Интерпретируйте модель (модели) таким образом, чтобы показать, какие особенности влияют на решение кандидата"
   ]
  },
  {
   "cell_type": "code",
   "execution_count": 8,
   "id": "9d828b31",
   "metadata": {},
   "outputs": [
    {
     "data": {
      "text/html": [
       "<div>\n",
       "<style scoped>\n",
       "    .dataframe tbody tr th:only-of-type {\n",
       "        vertical-align: middle;\n",
       "    }\n",
       "\n",
       "    .dataframe tbody tr th {\n",
       "        vertical-align: top;\n",
       "    }\n",
       "\n",
       "    .dataframe thead th {\n",
       "        text-align: right;\n",
       "    }\n",
       "</style>\n",
       "<table border=\"1\" class=\"dataframe\">\n",
       "  <thead>\n",
       "    <tr style=\"text-align: right;\">\n",
       "      <th></th>\n",
       "      <th>enrollee_id</th>\n",
       "      <th>city</th>\n",
       "      <th>city_development_index</th>\n",
       "      <th>gender</th>\n",
       "      <th>relevent_experience</th>\n",
       "      <th>enrolled_university</th>\n",
       "      <th>education_level</th>\n",
       "      <th>major_discipline</th>\n",
       "      <th>experience</th>\n",
       "      <th>company_size</th>\n",
       "      <th>company_type</th>\n",
       "      <th>last_new_job</th>\n",
       "      <th>training_hours</th>\n",
       "      <th>target</th>\n",
       "    </tr>\n",
       "  </thead>\n",
       "  <tbody>\n",
       "    <tr>\n",
       "      <th>0</th>\n",
       "      <td>8949</td>\n",
       "      <td>city_103</td>\n",
       "      <td>0.920</td>\n",
       "      <td>Male</td>\n",
       "      <td>Has relevent experience</td>\n",
       "      <td>no_enrollment</td>\n",
       "      <td>Graduate</td>\n",
       "      <td>STEM</td>\n",
       "      <td>&gt;20</td>\n",
       "      <td>NaN</td>\n",
       "      <td>NaN</td>\n",
       "      <td>1</td>\n",
       "      <td>36</td>\n",
       "      <td>1.0</td>\n",
       "    </tr>\n",
       "    <tr>\n",
       "      <th>1</th>\n",
       "      <td>29725</td>\n",
       "      <td>city_40</td>\n",
       "      <td>0.776</td>\n",
       "      <td>Male</td>\n",
       "      <td>No relevent experience</td>\n",
       "      <td>no_enrollment</td>\n",
       "      <td>Graduate</td>\n",
       "      <td>STEM</td>\n",
       "      <td>15</td>\n",
       "      <td>50-99</td>\n",
       "      <td>Pvt Ltd</td>\n",
       "      <td>&gt;4</td>\n",
       "      <td>47</td>\n",
       "      <td>0.0</td>\n",
       "    </tr>\n",
       "    <tr>\n",
       "      <th>2</th>\n",
       "      <td>11561</td>\n",
       "      <td>city_21</td>\n",
       "      <td>0.624</td>\n",
       "      <td>NaN</td>\n",
       "      <td>No relevent experience</td>\n",
       "      <td>Full time course</td>\n",
       "      <td>Graduate</td>\n",
       "      <td>STEM</td>\n",
       "      <td>5</td>\n",
       "      <td>NaN</td>\n",
       "      <td>NaN</td>\n",
       "      <td>never</td>\n",
       "      <td>83</td>\n",
       "      <td>0.0</td>\n",
       "    </tr>\n",
       "    <tr>\n",
       "      <th>3</th>\n",
       "      <td>33241</td>\n",
       "      <td>city_115</td>\n",
       "      <td>0.789</td>\n",
       "      <td>NaN</td>\n",
       "      <td>No relevent experience</td>\n",
       "      <td>NaN</td>\n",
       "      <td>Graduate</td>\n",
       "      <td>Business Degree</td>\n",
       "      <td>&lt;1</td>\n",
       "      <td>NaN</td>\n",
       "      <td>Pvt Ltd</td>\n",
       "      <td>never</td>\n",
       "      <td>52</td>\n",
       "      <td>1.0</td>\n",
       "    </tr>\n",
       "    <tr>\n",
       "      <th>4</th>\n",
       "      <td>666</td>\n",
       "      <td>city_162</td>\n",
       "      <td>0.767</td>\n",
       "      <td>Male</td>\n",
       "      <td>Has relevent experience</td>\n",
       "      <td>no_enrollment</td>\n",
       "      <td>Masters</td>\n",
       "      <td>STEM</td>\n",
       "      <td>&gt;20</td>\n",
       "      <td>50-99</td>\n",
       "      <td>Funded Startup</td>\n",
       "      <td>4</td>\n",
       "      <td>8</td>\n",
       "      <td>0.0</td>\n",
       "    </tr>\n",
       "  </tbody>\n",
       "</table>\n",
       "</div>"
      ],
      "text/plain": [
       "   enrollee_id      city  city_development_index gender  \\\n",
       "0         8949  city_103                   0.920   Male   \n",
       "1        29725   city_40                   0.776   Male   \n",
       "2        11561   city_21                   0.624    NaN   \n",
       "3        33241  city_115                   0.789    NaN   \n",
       "4          666  city_162                   0.767   Male   \n",
       "\n",
       "       relevent_experience enrolled_university education_level  \\\n",
       "0  Has relevent experience       no_enrollment        Graduate   \n",
       "1   No relevent experience       no_enrollment        Graduate   \n",
       "2   No relevent experience    Full time course        Graduate   \n",
       "3   No relevent experience                 NaN        Graduate   \n",
       "4  Has relevent experience       no_enrollment         Masters   \n",
       "\n",
       "  major_discipline experience company_size    company_type last_new_job  \\\n",
       "0             STEM        >20          NaN             NaN            1   \n",
       "1             STEM         15        50-99         Pvt Ltd           >4   \n",
       "2             STEM          5          NaN             NaN        never   \n",
       "3  Business Degree         <1          NaN         Pvt Ltd        never   \n",
       "4             STEM        >20        50-99  Funded Startup            4   \n",
       "\n",
       "   training_hours  target  \n",
       "0              36     1.0  \n",
       "1              47     0.0  \n",
       "2              83     0.0  \n",
       "3              52     1.0  \n",
       "4               8     0.0  "
      ]
     },
     "execution_count": 8,
     "metadata": {},
     "output_type": "execute_result"
    }
   ],
   "source": [
    "df.head() #первые 5 строк нашего DataFrame"
   ]
  },
  {
   "cell_type": "code",
   "execution_count": 9,
   "id": "49707560",
   "metadata": {},
   "outputs": [
    {
     "data": {
      "text/plain": [
       "19158"
      ]
     },
     "execution_count": 9,
     "metadata": {},
     "output_type": "execute_result"
    }
   ],
   "source": [
    "len(df) #количество строк"
   ]
  },
  {
   "cell_type": "code",
   "execution_count": 10,
   "id": "02102924",
   "metadata": {},
   "outputs": [
    {
     "data": {
      "text/plain": [
       "268212"
      ]
     },
     "execution_count": 10,
     "metadata": {},
     "output_type": "execute_result"
    }
   ],
   "source": [
    "df.size #количество записей"
   ]
  },
  {
   "cell_type": "code",
   "execution_count": 11,
   "id": "ce127d10",
   "metadata": {},
   "outputs": [
    {
     "data": {
      "text/plain": [
       "enrollee_id                 int64\n",
       "city                       object\n",
       "city_development_index    float64\n",
       "gender                     object\n",
       "relevent_experience        object\n",
       "enrolled_university        object\n",
       "education_level            object\n",
       "major_discipline           object\n",
       "experience                 object\n",
       "company_size               object\n",
       "company_type               object\n",
       "last_new_job               object\n",
       "training_hours              int64\n",
       "target                    float64\n",
       "dtype: object"
      ]
     },
     "execution_count": 11,
     "metadata": {},
     "output_type": "execute_result"
    }
   ],
   "source": [
    "df.dtypes #типы данных по каждому столбцу"
   ]
  },
  {
   "cell_type": "code",
   "execution_count": 12,
   "id": "15afa0f3",
   "metadata": {},
   "outputs": [
    {
     "data": {
      "text/plain": [
       "Index(['enrollee_id', 'city', 'city_development_index', 'gender',\n",
       "       'relevent_experience', 'enrolled_university', 'education_level',\n",
       "       'major_discipline', 'experience', 'company_size', 'company_type',\n",
       "       'last_new_job', 'training_hours', 'target'],\n",
       "      dtype='object')"
      ]
     },
     "execution_count": 12,
     "metadata": {},
     "output_type": "execute_result"
    }
   ],
   "source": [
    "df.columns #список столбцов"
   ]
  },
  {
   "cell_type": "code",
   "execution_count": 13,
   "id": "3f1d0c17",
   "metadata": {},
   "outputs": [
    {
     "data": {
      "text/plain": [
       "['enrollee_id',\n",
       " 'city',\n",
       " 'city_development_index',\n",
       " 'gender',\n",
       " 'relevent_experience',\n",
       " 'enrolled_university',\n",
       " 'education_level',\n",
       " 'major_discipline',\n",
       " 'experience',\n",
       " 'company_size',\n",
       " 'company_type',\n",
       " 'last_new_job',\n",
       " 'training_hours',\n",
       " 'target']"
      ]
     },
     "execution_count": 13,
     "metadata": {},
     "output_type": "execute_result"
    }
   ],
   "source": [
    "[i for i in df] #второй стпособ получить список столбцов"
   ]
  },
  {
   "cell_type": "code",
   "execution_count": 14,
   "id": "ac658c40",
   "metadata": {},
   "outputs": [
    {
     "data": {
      "text/html": [
       "<div>\n",
       "<style scoped>\n",
       "    .dataframe tbody tr th:only-of-type {\n",
       "        vertical-align: middle;\n",
       "    }\n",
       "\n",
       "    .dataframe tbody tr th {\n",
       "        vertical-align: top;\n",
       "    }\n",
       "\n",
       "    .dataframe thead th {\n",
       "        text-align: right;\n",
       "    }\n",
       "</style>\n",
       "<table border=\"1\" class=\"dataframe\">\n",
       "  <thead>\n",
       "    <tr style=\"text-align: right;\">\n",
       "      <th></th>\n",
       "      <th>enrollee_id</th>\n",
       "      <th>city_development_index</th>\n",
       "      <th>training_hours</th>\n",
       "      <th>target</th>\n",
       "    </tr>\n",
       "  </thead>\n",
       "  <tbody>\n",
       "    <tr>\n",
       "      <th>count</th>\n",
       "      <td>19158.000000</td>\n",
       "      <td>19158.000000</td>\n",
       "      <td>19158.000000</td>\n",
       "      <td>19158.000000</td>\n",
       "    </tr>\n",
       "    <tr>\n",
       "      <th>mean</th>\n",
       "      <td>16875.358179</td>\n",
       "      <td>0.828848</td>\n",
       "      <td>65.366896</td>\n",
       "      <td>0.249348</td>\n",
       "    </tr>\n",
       "    <tr>\n",
       "      <th>std</th>\n",
       "      <td>9616.292592</td>\n",
       "      <td>0.123362</td>\n",
       "      <td>60.058462</td>\n",
       "      <td>0.432647</td>\n",
       "    </tr>\n",
       "    <tr>\n",
       "      <th>min</th>\n",
       "      <td>1.000000</td>\n",
       "      <td>0.448000</td>\n",
       "      <td>1.000000</td>\n",
       "      <td>0.000000</td>\n",
       "    </tr>\n",
       "    <tr>\n",
       "      <th>25%</th>\n",
       "      <td>8554.250000</td>\n",
       "      <td>0.740000</td>\n",
       "      <td>23.000000</td>\n",
       "      <td>0.000000</td>\n",
       "    </tr>\n",
       "    <tr>\n",
       "      <th>50%</th>\n",
       "      <td>16982.500000</td>\n",
       "      <td>0.903000</td>\n",
       "      <td>47.000000</td>\n",
       "      <td>0.000000</td>\n",
       "    </tr>\n",
       "    <tr>\n",
       "      <th>75%</th>\n",
       "      <td>25169.750000</td>\n",
       "      <td>0.920000</td>\n",
       "      <td>88.000000</td>\n",
       "      <td>0.000000</td>\n",
       "    </tr>\n",
       "    <tr>\n",
       "      <th>max</th>\n",
       "      <td>33380.000000</td>\n",
       "      <td>0.949000</td>\n",
       "      <td>336.000000</td>\n",
       "      <td>1.000000</td>\n",
       "    </tr>\n",
       "  </tbody>\n",
       "</table>\n",
       "</div>"
      ],
      "text/plain": [
       "        enrollee_id  city_development_index  training_hours        target\n",
       "count  19158.000000            19158.000000    19158.000000  19158.000000\n",
       "mean   16875.358179                0.828848       65.366896      0.249348\n",
       "std     9616.292592                0.123362       60.058462      0.432647\n",
       "min        1.000000                0.448000        1.000000      0.000000\n",
       "25%     8554.250000                0.740000       23.000000      0.000000\n",
       "50%    16982.500000                0.903000       47.000000      0.000000\n",
       "75%    25169.750000                0.920000       88.000000      0.000000\n",
       "max    33380.000000                0.949000      336.000000      1.000000"
      ]
     },
     "execution_count": 14,
     "metadata": {},
     "output_type": "execute_result"
    }
   ],
   "source": [
    "df.describe() #описательная статистика по столбцам с числовым типом данных"
   ]
  },
  {
   "cell_type": "code",
   "execution_count": 15,
   "id": "d1fc05f4",
   "metadata": {},
   "outputs": [
    {
     "data": {
      "text/html": [
       "<div>\n",
       "<style scoped>\n",
       "    .dataframe tbody tr th:only-of-type {\n",
       "        vertical-align: middle;\n",
       "    }\n",
       "\n",
       "    .dataframe tbody tr th {\n",
       "        vertical-align: top;\n",
       "    }\n",
       "\n",
       "    .dataframe thead th {\n",
       "        text-align: right;\n",
       "    }\n",
       "</style>\n",
       "<table border=\"1\" class=\"dataframe\">\n",
       "  <thead>\n",
       "    <tr style=\"text-align: right;\">\n",
       "      <th></th>\n",
       "      <th>enrollee_id</th>\n",
       "      <th>city</th>\n",
       "      <th>city_development_index</th>\n",
       "      <th>gender</th>\n",
       "      <th>relevent_experience</th>\n",
       "      <th>enrolled_university</th>\n",
       "      <th>education_level</th>\n",
       "      <th>major_discipline</th>\n",
       "      <th>experience</th>\n",
       "      <th>company_size</th>\n",
       "      <th>company_type</th>\n",
       "      <th>last_new_job</th>\n",
       "      <th>training_hours</th>\n",
       "      <th>target</th>\n",
       "    </tr>\n",
       "  </thead>\n",
       "  <tbody>\n",
       "    <tr>\n",
       "      <th>0</th>\n",
       "      <td>8949</td>\n",
       "      <td>city_103</td>\n",
       "      <td>0.920</td>\n",
       "      <td>Male</td>\n",
       "      <td>Has relevent experience</td>\n",
       "      <td>no_enrollment</td>\n",
       "      <td>Graduate</td>\n",
       "      <td>STEM</td>\n",
       "      <td>&gt;20</td>\n",
       "      <td>NaN</td>\n",
       "      <td>NaN</td>\n",
       "      <td>1</td>\n",
       "      <td>36</td>\n",
       "      <td>1.0</td>\n",
       "    </tr>\n",
       "    <tr>\n",
       "      <th>1</th>\n",
       "      <td>29725</td>\n",
       "      <td>city_40</td>\n",
       "      <td>0.776</td>\n",
       "      <td>Male</td>\n",
       "      <td>No relevent experience</td>\n",
       "      <td>no_enrollment</td>\n",
       "      <td>Graduate</td>\n",
       "      <td>STEM</td>\n",
       "      <td>15</td>\n",
       "      <td>50-99</td>\n",
       "      <td>Pvt Ltd</td>\n",
       "      <td>&gt;4</td>\n",
       "      <td>47</td>\n",
       "      <td>0.0</td>\n",
       "    </tr>\n",
       "    <tr>\n",
       "      <th>2</th>\n",
       "      <td>11561</td>\n",
       "      <td>city_21</td>\n",
       "      <td>0.624</td>\n",
       "      <td>NaN</td>\n",
       "      <td>No relevent experience</td>\n",
       "      <td>Full time course</td>\n",
       "      <td>Graduate</td>\n",
       "      <td>STEM</td>\n",
       "      <td>5</td>\n",
       "      <td>NaN</td>\n",
       "      <td>NaN</td>\n",
       "      <td>never</td>\n",
       "      <td>83</td>\n",
       "      <td>0.0</td>\n",
       "    </tr>\n",
       "    <tr>\n",
       "      <th>3</th>\n",
       "      <td>33241</td>\n",
       "      <td>city_115</td>\n",
       "      <td>0.789</td>\n",
       "      <td>NaN</td>\n",
       "      <td>No relevent experience</td>\n",
       "      <td>NaN</td>\n",
       "      <td>Graduate</td>\n",
       "      <td>Business Degree</td>\n",
       "      <td>&lt;1</td>\n",
       "      <td>NaN</td>\n",
       "      <td>Pvt Ltd</td>\n",
       "      <td>never</td>\n",
       "      <td>52</td>\n",
       "      <td>1.0</td>\n",
       "    </tr>\n",
       "    <tr>\n",
       "      <th>4</th>\n",
       "      <td>666</td>\n",
       "      <td>city_162</td>\n",
       "      <td>0.767</td>\n",
       "      <td>Male</td>\n",
       "      <td>Has relevent experience</td>\n",
       "      <td>no_enrollment</td>\n",
       "      <td>Masters</td>\n",
       "      <td>STEM</td>\n",
       "      <td>&gt;20</td>\n",
       "      <td>50-99</td>\n",
       "      <td>Funded Startup</td>\n",
       "      <td>4</td>\n",
       "      <td>8</td>\n",
       "      <td>0.0</td>\n",
       "    </tr>\n",
       "  </tbody>\n",
       "</table>\n",
       "</div>"
      ],
      "text/plain": [
       "   enrollee_id      city  city_development_index gender  \\\n",
       "0         8949  city_103                   0.920   Male   \n",
       "1        29725   city_40                   0.776   Male   \n",
       "2        11561   city_21                   0.624    NaN   \n",
       "3        33241  city_115                   0.789    NaN   \n",
       "4          666  city_162                   0.767   Male   \n",
       "\n",
       "       relevent_experience enrolled_university education_level  \\\n",
       "0  Has relevent experience       no_enrollment        Graduate   \n",
       "1   No relevent experience       no_enrollment        Graduate   \n",
       "2   No relevent experience    Full time course        Graduate   \n",
       "3   No relevent experience                 NaN        Graduate   \n",
       "4  Has relevent experience       no_enrollment         Masters   \n",
       "\n",
       "  major_discipline experience company_size    company_type last_new_job  \\\n",
       "0             STEM        >20          NaN             NaN            1   \n",
       "1             STEM         15        50-99         Pvt Ltd           >4   \n",
       "2             STEM          5          NaN             NaN        never   \n",
       "3  Business Degree         <1          NaN         Pvt Ltd        never   \n",
       "4             STEM        >20        50-99  Funded Startup            4   \n",
       "\n",
       "   training_hours  target  \n",
       "0              36     1.0  \n",
       "1              47     0.0  \n",
       "2              83     0.0  \n",
       "3              52     1.0  \n",
       "4               8     0.0  "
      ]
     },
     "execution_count": 15,
     "metadata": {},
     "output_type": "execute_result"
    }
   ],
   "source": [
    "df.head()"
   ]
  },
  {
   "cell_type": "code",
   "execution_count": 16,
   "id": "eec54ee8",
   "metadata": {},
   "outputs": [
    {
     "data": {
      "text/plain": [
       "company_type              0.320493\n",
       "company_size              0.309949\n",
       "gender                    0.235306\n",
       "major_discipline          0.146832\n",
       "education_level           0.024011\n",
       "last_new_job              0.022080\n",
       "enrolled_university       0.020148\n",
       "experience                0.003393\n",
       "enrollee_id               0.000000\n",
       "city                      0.000000\n",
       "city_development_index    0.000000\n",
       "relevent_experience       0.000000\n",
       "training_hours            0.000000\n",
       "target                    0.000000\n",
       "dtype: float64"
      ]
     },
     "execution_count": 16,
     "metadata": {},
     "output_type": "execute_result"
    }
   ],
   "source": [
    "df.isna().mean().sort_values(ascending = False) #процент NaN значений по каждому столбцу"
   ]
  },
  {
   "cell_type": "code",
   "execution_count": 17,
   "id": "4417114e",
   "metadata": {},
   "outputs": [
    {
     "data": {
      "text/plain": [
       "<Axes: >"
      ]
     },
     "execution_count": 17,
     "metadata": {},
     "output_type": "execute_result"
    },
    {
     "data": {
      "image/png": "[encoded data removed]",
      "text/plain": [
       "<Figure size 640x480 with 1 Axes>"
      ]
     },
     "metadata": {},
     "output_type": "display_data"
    }
   ],
   "source": [
    "df['city_development_index'].hist() #гистограмма уровня развитости городов по индексу, в которых живут дата-сайнтисты"
   ]
  },
  {
   "cell_type": "markdown",
   "id": "72dbd34a",
   "metadata": {},
   "source": [
    "#### Большинство дата-сайнтистов живут в развитых городах \n"
   ]
  },
  {
   "cell_type": "markdown",
   "id": "ce24f336",
   "metadata": {},
   "source": [
    "#"
   ]
  },
  {
   "cell_type": "code",
   "execution_count": 18,
   "id": "ef9d4f3a",
   "metadata": {},
   "outputs": [
    {
     "data": {
      "text/plain": [
       "Male      13221\n",
       "NaN        4508\n",
       "Female     1238\n",
       "Other       191\n",
       "Name: gender, dtype: int64"
      ]
     },
     "execution_count": 18,
     "metadata": {},
     "output_type": "execute_result"
    }
   ],
   "source": [
    "df['gender'].value_counts(dropna = False) #количество значений в кажной категории столбца gender"
   ]
  },
  {
   "cell_type": "code",
   "execution_count": 19,
   "id": "7c3d9752",
   "metadata": {},
   "outputs": [
    {
     "data": {
      "text/plain": [
       "<Axes: ylabel='gender'>"
      ]
     },
     "execution_count": 19,
     "metadata": {},
     "output_type": "execute_result"
    },
    {
     "data": {
      "image/png": "[encoded data removed]",
      "text/plain": [
       "<Figure size 640x480 with 1 Axes>"
      ]
     },
     "metadata": {},
     "output_type": "display_data"
    }
   ],
   "source": [
    "category_gender = df['gender'].value_counts(dropna = False)\n",
    "category_gender.plot(kind = 'pie')"
   ]
  },
  {
   "cell_type": "markdown",
   "id": "28b6e93c",
   "metadata": {},
   "source": [
    "#### Большинство дата-сайнтистов мужчины"
   ]
  },
  {
   "cell_type": "markdown",
   "id": "0af63d78",
   "metadata": {},
   "source": [
    "#"
   ]
  },
  {
   "cell_type": "code",
   "execution_count": 20,
   "id": "4e4e772b",
   "metadata": {},
   "outputs": [
    {
     "data": {
      "text/plain": [
       "0.903"
      ]
     },
     "execution_count": 20,
     "metadata": {},
     "output_type": "execute_result"
    }
   ],
   "source": [
    "df['city_development_index'].quantile(0.5)"
   ]
  },
  {
   "cell_type": "code",
   "execution_count": 21,
   "id": "c1515396",
   "metadata": {},
   "outputs": [],
   "source": [
    "q = df['city_development_index'].quantile(0.05)"
   ]
  },
  {
   "cell_type": "code",
   "execution_count": 22,
   "id": "63217035",
   "metadata": {},
   "outputs": [
    {
     "data": {
      "text/plain": [
       "<Axes: >"
      ]
     },
     "execution_count": 22,
     "metadata": {},
     "output_type": "execute_result"
    },
    {
     "data": {
      "image/png": "[encoded data removed]",
      "text/plain": [
       "<Figure size 640x480 with 1 Axes>"
      ]
     },
     "metadata": {},
     "output_type": "display_data"
    }
   ],
   "source": [
    "df[df['city_development_index'] >= q]['city_development_index'].hist()"
   ]
  },
  {
   "cell_type": "markdown",
   "id": "7aa77bd2",
   "metadata": {},
   "source": [
    "#"
   ]
  },
  {
   "cell_type": "code",
   "execution_count": 23,
   "id": "47bb8014",
   "metadata": {},
   "outputs": [
    {
     "data": {
      "text/plain": [
       "24.934753105752165"
      ]
     },
     "execution_count": 23,
     "metadata": {},
     "output_type": "execute_result"
    }
   ],
   "source": [
    "df['target'].mean() * 100 # 25% дата-сайнтистов хотят сметить работу"
   ]
  },
  {
   "cell_type": "code",
   "execution_count": 24,
   "id": "8fbe553c",
   "metadata": {},
   "outputs": [
    {
     "data": {
      "text/html": [
       "<div>\n",
       "<style scoped>\n",
       "    .dataframe tbody tr th:only-of-type {\n",
       "        vertical-align: middle;\n",
       "    }\n",
       "\n",
       "    .dataframe tbody tr th {\n",
       "        vertical-align: top;\n",
       "    }\n",
       "\n",
       "    .dataframe thead th {\n",
       "        text-align: right;\n",
       "    }\n",
       "</style>\n",
       "<table border=\"1\" class=\"dataframe\">\n",
       "  <thead>\n",
       "    <tr style=\"text-align: right;\">\n",
       "      <th></th>\n",
       "      <th>count</th>\n",
       "      <th>mean</th>\n",
       "    </tr>\n",
       "    <tr>\n",
       "      <th>gender</th>\n",
       "      <th></th>\n",
       "      <th></th>\n",
       "    </tr>\n",
       "  </thead>\n",
       "  <tbody>\n",
       "    <tr>\n",
       "      <th>NaN</th>\n",
       "      <td>4508</td>\n",
       "      <td>0.308119</td>\n",
       "    </tr>\n",
       "    <tr>\n",
       "      <th>Female</th>\n",
       "      <td>1238</td>\n",
       "      <td>0.263328</td>\n",
       "    </tr>\n",
       "    <tr>\n",
       "      <th>Other</th>\n",
       "      <td>191</td>\n",
       "      <td>0.261780</td>\n",
       "    </tr>\n",
       "    <tr>\n",
       "      <th>Male</th>\n",
       "      <td>13221</td>\n",
       "      <td>0.227819</td>\n",
       "    </tr>\n",
       "  </tbody>\n",
       "</table>\n",
       "</div>"
      ],
      "text/plain": [
       "        count      mean\n",
       "gender                 \n",
       "NaN      4508  0.308119\n",
       "Female   1238  0.263328\n",
       "Other     191  0.261780\n",
       "Male    13221  0.227819"
      ]
     },
     "execution_count": 24,
     "metadata": {},
     "output_type": "execute_result"
    }
   ],
   "source": [
    "df.groupby('gender', dropna = False)['target'].agg(['count', 'mean']).sort_values('mean', ascending = False) \n",
    "#Количество рабочих по категорям в gender и доля тех кто планирует сменить работу "
   ]
  },
  {
   "cell_type": "code",
   "execution_count": 25,
   "id": "46746990",
   "metadata": {},
   "outputs": [
    {
     "data": {
      "text/html": [
       "<div>\n",
       "<style scoped>\n",
       "    .dataframe tbody tr th:only-of-type {\n",
       "        vertical-align: middle;\n",
       "    }\n",
       "\n",
       "    .dataframe tbody tr th {\n",
       "        vertical-align: top;\n",
       "    }\n",
       "\n",
       "    .dataframe thead th {\n",
       "        text-align: right;\n",
       "    }\n",
       "</style>\n",
       "<table border=\"1\" class=\"dataframe\">\n",
       "  <thead>\n",
       "    <tr style=\"text-align: right;\">\n",
       "      <th></th>\n",
       "      <th>count</th>\n",
       "      <th>mean</th>\n",
       "    </tr>\n",
       "    <tr>\n",
       "      <th>education_level</th>\n",
       "      <th></th>\n",
       "      <th></th>\n",
       "    </tr>\n",
       "  </thead>\n",
       "  <tbody>\n",
       "    <tr>\n",
       "      <th>Graduate</th>\n",
       "      <td>11598</td>\n",
       "      <td>0.279790</td>\n",
       "    </tr>\n",
       "    <tr>\n",
       "      <th>NaN</th>\n",
       "      <td>460</td>\n",
       "      <td>0.226087</td>\n",
       "    </tr>\n",
       "    <tr>\n",
       "      <th>Masters</th>\n",
       "      <td>4361</td>\n",
       "      <td>0.214400</td>\n",
       "    </tr>\n",
       "    <tr>\n",
       "      <th>High School</th>\n",
       "      <td>2017</td>\n",
       "      <td>0.195340</td>\n",
       "    </tr>\n",
       "    <tr>\n",
       "      <th>Phd</th>\n",
       "      <td>414</td>\n",
       "      <td>0.140097</td>\n",
       "    </tr>\n",
       "    <tr>\n",
       "      <th>Primary School</th>\n",
       "      <td>308</td>\n",
       "      <td>0.133117</td>\n",
       "    </tr>\n",
       "  </tbody>\n",
       "</table>\n",
       "</div>"
      ],
      "text/plain": [
       "                 count      mean\n",
       "education_level                 \n",
       "Graduate         11598  0.279790\n",
       "NaN                460  0.226087\n",
       "Masters           4361  0.214400\n",
       "High School       2017  0.195340\n",
       "Phd                414  0.140097\n",
       "Primary School     308  0.133117"
      ]
     },
     "execution_count": 25,
     "metadata": {},
     "output_type": "execute_result"
    }
   ],
   "source": [
    "df.groupby('education_level', dropna = False)['target'].agg(['count', 'mean']).sort_values('mean', ascending = False)\n",
    "#Количество рабочих по категорям в education_level и доля тех кто планирует сменить работу "
   ]
  },
  {
   "cell_type": "code",
   "execution_count": 26,
   "id": "332e2d1d",
   "metadata": {},
   "outputs": [
    {
     "data": {
      "text/plain": [
       "<Axes: xlabel='education_level'>"
      ]
     },
     "execution_count": 26,
     "metadata": {},
     "output_type": "execute_result"
    },
    {
     "data": {
      "image/png": "[encoded data removed]",
      "text/plain": [
       "<Figure size 640x480 with 1 Axes>"
      ]
     },
     "metadata": {},
     "output_type": "display_data"
    }
   ],
   "source": [
    "df.groupby('education_level', dropna = False)['target'].mean().plot(kind = 'bar')"
   ]
  },
  {
   "cell_type": "markdown",
   "id": "9c4a0b24",
   "metadata": {},
   "source": [
    "#### Доля по каждой категории тех, кто хочет сменить работу"
   ]
  },
  {
   "cell_type": "markdown",
   "id": "f338b6af",
   "metadata": {},
   "source": [
    "#"
   ]
  },
  {
   "cell_type": "code",
   "execution_count": 27,
   "id": "0859aa98",
   "metadata": {},
   "outputs": [
    {
     "data": {
      "text/plain": [
       "0        (0.849, 0.949]\n",
       "1        (0.749, 0.849]\n",
       "2        (0.548, 0.648]\n",
       "3        (0.749, 0.849]\n",
       "4        (0.749, 0.849]\n",
       "              ...      \n",
       "19153    (0.849, 0.949]\n",
       "19154    (0.849, 0.949]\n",
       "19155    (0.849, 0.949]\n",
       "19156    (0.749, 0.849]\n",
       "19157    (0.849, 0.949]\n",
       "Name: city_development_index, Length: 19158, dtype: category\n",
       "Categories (5, interval[float64, right]): [(0.447, 0.548] < (0.548, 0.648] < (0.648, 0.749] < (0.749, 0.849] < (0.849, 0.949]]"
      ]
     },
     "execution_count": 27,
     "metadata": {},
     "output_type": "execute_result"
    }
   ],
   "source": [
    "pd.cut(df['city_development_index'], 5) #делим непрерывную переменную на 5 интервалов"
   ]
  },
  {
   "cell_type": "code",
   "execution_count": 28,
   "id": "a169ddd5",
   "metadata": {},
   "outputs": [],
   "source": [
    "df['city_development_index_group'] = pd.cut(df['city_development_index'], 5) #добавляем интервалы в DataFrame"
   ]
  },
  {
   "cell_type": "code",
   "execution_count": 29,
   "id": "8395549b",
   "metadata": {},
   "outputs": [
    {
     "data": {
      "text/html": [
       "<div>\n",
       "<style scoped>\n",
       "    .dataframe tbody tr th:only-of-type {\n",
       "        vertical-align: middle;\n",
       "    }\n",
       "\n",
       "    .dataframe tbody tr th {\n",
       "        vertical-align: top;\n",
       "    }\n",
       "\n",
       "    .dataframe thead th {\n",
       "        text-align: right;\n",
       "    }\n",
       "</style>\n",
       "<table border=\"1\" class=\"dataframe\">\n",
       "  <thead>\n",
       "    <tr style=\"text-align: right;\">\n",
       "      <th></th>\n",
       "      <th>count</th>\n",
       "      <th>mean</th>\n",
       "    </tr>\n",
       "    <tr>\n",
       "      <th>city_development_index_group</th>\n",
       "      <th></th>\n",
       "      <th></th>\n",
       "    </tr>\n",
       "  </thead>\n",
       "  <tbody>\n",
       "    <tr>\n",
       "      <th>(0.548, 0.648]</th>\n",
       "      <td>3297</td>\n",
       "      <td>0.582651</td>\n",
       "    </tr>\n",
       "    <tr>\n",
       "      <th>(0.447, 0.548]</th>\n",
       "      <td>178</td>\n",
       "      <td>0.578652</td>\n",
       "    </tr>\n",
       "    <tr>\n",
       "      <th>(0.648, 0.749]</th>\n",
       "      <td>1529</td>\n",
       "      <td>0.273381</td>\n",
       "    </tr>\n",
       "    <tr>\n",
       "      <th>(0.749, 0.849]</th>\n",
       "      <td>1949</td>\n",
       "      <td>0.194459</td>\n",
       "    </tr>\n",
       "    <tr>\n",
       "      <th>(0.849, 0.949]</th>\n",
       "      <td>12205</td>\n",
       "      <td>0.160262</td>\n",
       "    </tr>\n",
       "  </tbody>\n",
       "</table>\n",
       "</div>"
      ],
      "text/plain": [
       "                              count      mean\n",
       "city_development_index_group                 \n",
       "(0.548, 0.648]                 3297  0.582651\n",
       "(0.447, 0.548]                  178  0.578652\n",
       "(0.648, 0.749]                 1529  0.273381\n",
       "(0.749, 0.849]                 1949  0.194459\n",
       "(0.849, 0.949]                12205  0.160262"
      ]
     },
     "execution_count": 29,
     "metadata": {},
     "output_type": "execute_result"
    }
   ],
   "source": [
    "df.groupby('city_development_index_group', dropna = False)['target'].agg(['count', 'mean'])\\\n",
    "                                                    .sort_values('mean', ascending = False)\n",
    "#сгруппировали по уровню развитости города. Получили: большинство DS живет в развитых городах и меньше хотят сменить работу"
   ]
  },
  {
   "cell_type": "code",
   "execution_count": 30,
   "id": "2a213386",
   "metadata": {},
   "outputs": [],
   "source": [
    "df['city_development_index_group_q'] = pd.qcut(df['city_development_index'], 5, duplicates = 'drop')\n",
    "#добавили новый столбец с интервалами, в которых лежит 'равное' количество записей "
   ]
  },
  {
   "cell_type": "code",
   "execution_count": 31,
   "id": "78b57f8c",
   "metadata": {},
   "outputs": [
    {
     "data": {
      "text/html": [
       "<div>\n",
       "<style scoped>\n",
       "    .dataframe tbody tr th:only-of-type {\n",
       "        vertical-align: middle;\n",
       "    }\n",
       "\n",
       "    .dataframe tbody tr th {\n",
       "        vertical-align: top;\n",
       "    }\n",
       "\n",
       "    .dataframe thead th {\n",
       "        text-align: right;\n",
       "    }\n",
       "</style>\n",
       "<table border=\"1\" class=\"dataframe\">\n",
       "  <thead>\n",
       "    <tr style=\"text-align: right;\">\n",
       "      <th></th>\n",
       "      <th>enrollee_id</th>\n",
       "      <th>city</th>\n",
       "      <th>city_development_index</th>\n",
       "      <th>gender</th>\n",
       "      <th>relevent_experience</th>\n",
       "      <th>enrolled_university</th>\n",
       "      <th>education_level</th>\n",
       "      <th>major_discipline</th>\n",
       "      <th>experience</th>\n",
       "      <th>company_size</th>\n",
       "      <th>company_type</th>\n",
       "      <th>last_new_job</th>\n",
       "      <th>training_hours</th>\n",
       "      <th>target</th>\n",
       "      <th>city_development_index_group</th>\n",
       "      <th>city_development_index_group_q</th>\n",
       "    </tr>\n",
       "  </thead>\n",
       "  <tbody>\n",
       "    <tr>\n",
       "      <th>0</th>\n",
       "      <td>8949</td>\n",
       "      <td>city_103</td>\n",
       "      <td>0.920</td>\n",
       "      <td>Male</td>\n",
       "      <td>Has relevent experience</td>\n",
       "      <td>no_enrollment</td>\n",
       "      <td>Graduate</td>\n",
       "      <td>STEM</td>\n",
       "      <td>&gt;20</td>\n",
       "      <td>NaN</td>\n",
       "      <td>NaN</td>\n",
       "      <td>1</td>\n",
       "      <td>36</td>\n",
       "      <td>1.0</td>\n",
       "      <td>(0.849, 0.949]</td>\n",
       "      <td>(0.878, 0.92]</td>\n",
       "    </tr>\n",
       "    <tr>\n",
       "      <th>1</th>\n",
       "      <td>29725</td>\n",
       "      <td>city_40</td>\n",
       "      <td>0.776</td>\n",
       "      <td>Male</td>\n",
       "      <td>No relevent experience</td>\n",
       "      <td>no_enrollment</td>\n",
       "      <td>Graduate</td>\n",
       "      <td>STEM</td>\n",
       "      <td>15</td>\n",
       "      <td>50-99</td>\n",
       "      <td>Pvt Ltd</td>\n",
       "      <td>&gt;4</td>\n",
       "      <td>47</td>\n",
       "      <td>0.0</td>\n",
       "      <td>(0.749, 0.849]</td>\n",
       "      <td>(0.691, 0.878]</td>\n",
       "    </tr>\n",
       "    <tr>\n",
       "      <th>2</th>\n",
       "      <td>11561</td>\n",
       "      <td>city_21</td>\n",
       "      <td>0.624</td>\n",
       "      <td>NaN</td>\n",
       "      <td>No relevent experience</td>\n",
       "      <td>Full time course</td>\n",
       "      <td>Graduate</td>\n",
       "      <td>STEM</td>\n",
       "      <td>5</td>\n",
       "      <td>NaN</td>\n",
       "      <td>NaN</td>\n",
       "      <td>never</td>\n",
       "      <td>83</td>\n",
       "      <td>0.0</td>\n",
       "      <td>(0.548, 0.648]</td>\n",
       "      <td>(0.447, 0.691]</td>\n",
       "    </tr>\n",
       "    <tr>\n",
       "      <th>3</th>\n",
       "      <td>33241</td>\n",
       "      <td>city_115</td>\n",
       "      <td>0.789</td>\n",
       "      <td>NaN</td>\n",
       "      <td>No relevent experience</td>\n",
       "      <td>NaN</td>\n",
       "      <td>Graduate</td>\n",
       "      <td>Business Degree</td>\n",
       "      <td>&lt;1</td>\n",
       "      <td>NaN</td>\n",
       "      <td>Pvt Ltd</td>\n",
       "      <td>never</td>\n",
       "      <td>52</td>\n",
       "      <td>1.0</td>\n",
       "      <td>(0.749, 0.849]</td>\n",
       "      <td>(0.691, 0.878]</td>\n",
       "    </tr>\n",
       "    <tr>\n",
       "      <th>4</th>\n",
       "      <td>666</td>\n",
       "      <td>city_162</td>\n",
       "      <td>0.767</td>\n",
       "      <td>Male</td>\n",
       "      <td>Has relevent experience</td>\n",
       "      <td>no_enrollment</td>\n",
       "      <td>Masters</td>\n",
       "      <td>STEM</td>\n",
       "      <td>&gt;20</td>\n",
       "      <td>50-99</td>\n",
       "      <td>Funded Startup</td>\n",
       "      <td>4</td>\n",
       "      <td>8</td>\n",
       "      <td>0.0</td>\n",
       "      <td>(0.749, 0.849]</td>\n",
       "      <td>(0.691, 0.878]</td>\n",
       "    </tr>\n",
       "  </tbody>\n",
       "</table>\n",
       "</div>"
      ],
      "text/plain": [
       "   enrollee_id      city  city_development_index gender  \\\n",
       "0         8949  city_103                   0.920   Male   \n",
       "1        29725   city_40                   0.776   Male   \n",
       "2        11561   city_21                   0.624    NaN   \n",
       "3        33241  city_115                   0.789    NaN   \n",
       "4          666  city_162                   0.767   Male   \n",
       "\n",
       "       relevent_experience enrolled_university education_level  \\\n",
       "0  Has relevent experience       no_enrollment        Graduate   \n",
       "1   No relevent experience       no_enrollment        Graduate   \n",
       "2   No relevent experience    Full time course        Graduate   \n",
       "3   No relevent experience                 NaN        Graduate   \n",
       "4  Has relevent experience       no_enrollment         Masters   \n",
       "\n",
       "  major_discipline experience company_size    company_type last_new_job  \\\n",
       "0             STEM        >20          NaN             NaN            1   \n",
       "1             STEM         15        50-99         Pvt Ltd           >4   \n",
       "2             STEM          5          NaN             NaN        never   \n",
       "3  Business Degree         <1          NaN         Pvt Ltd        never   \n",
       "4             STEM        >20        50-99  Funded Startup            4   \n",
       "\n",
       "   training_hours  target city_development_index_group  \\\n",
       "0              36     1.0               (0.849, 0.949]   \n",
       "1              47     0.0               (0.749, 0.849]   \n",
       "2              83     0.0               (0.548, 0.648]   \n",
       "3              52     1.0               (0.749, 0.849]   \n",
       "4               8     0.0               (0.749, 0.849]   \n",
       "\n",
       "  city_development_index_group_q  \n",
       "0                  (0.878, 0.92]  \n",
       "1                 (0.691, 0.878]  \n",
       "2                 (0.447, 0.691]  \n",
       "3                 (0.691, 0.878]  \n",
       "4                 (0.691, 0.878]  "
      ]
     },
     "execution_count": 31,
     "metadata": {},
     "output_type": "execute_result"
    }
   ],
   "source": [
    "df.head()"
   ]
  },
  {
   "cell_type": "code",
   "execution_count": 32,
   "id": "85cbf23c",
   "metadata": {},
   "outputs": [
    {
     "data": {
      "text/html": [
       "<div>\n",
       "<style scoped>\n",
       "    .dataframe tbody tr th:only-of-type {\n",
       "        vertical-align: middle;\n",
       "    }\n",
       "\n",
       "    .dataframe tbody tr th {\n",
       "        vertical-align: top;\n",
       "    }\n",
       "\n",
       "    .dataframe thead th {\n",
       "        text-align: right;\n",
       "    }\n",
       "</style>\n",
       "<table border=\"1\" class=\"dataframe\">\n",
       "  <thead>\n",
       "    <tr style=\"text-align: right;\">\n",
       "      <th></th>\n",
       "      <th>count</th>\n",
       "      <th>mean</th>\n",
       "    </tr>\n",
       "    <tr>\n",
       "      <th>city_development_index_group_q</th>\n",
       "      <th></th>\n",
       "      <th></th>\n",
       "    </tr>\n",
       "  </thead>\n",
       "  <tbody>\n",
       "    <tr>\n",
       "      <th>(0.447, 0.691]</th>\n",
       "      <td>3869</td>\n",
       "      <td>0.550530</td>\n",
       "    </tr>\n",
       "    <tr>\n",
       "      <th>(0.691, 0.878]</th>\n",
       "      <td>3827</td>\n",
       "      <td>0.206428</td>\n",
       "    </tr>\n",
       "    <tr>\n",
       "      <th>(0.878, 0.92]</th>\n",
       "      <td>8925</td>\n",
       "      <td>0.178375</td>\n",
       "    </tr>\n",
       "    <tr>\n",
       "      <th>(0.92, 0.949]</th>\n",
       "      <td>2537</td>\n",
       "      <td>0.104454</td>\n",
       "    </tr>\n",
       "  </tbody>\n",
       "</table>\n",
       "</div>"
      ],
      "text/plain": [
       "                                count      mean\n",
       "city_development_index_group_q                 \n",
       "(0.447, 0.691]                   3869  0.550530\n",
       "(0.691, 0.878]                   3827  0.206428\n",
       "(0.878, 0.92]                    8925  0.178375\n",
       "(0.92, 0.949]                    2537  0.104454"
      ]
     },
     "execution_count": 32,
     "metadata": {},
     "output_type": "execute_result"
    }
   ],
   "source": [
    "df.groupby('city_development_index_group_q', dropna = False)['target'].agg(['count', 'mean'])\\\n",
    "                                                    .sort_values('mean', ascending = False)\n",
    "#Сгруппировали по новым интервалам. \n",
    "#Эта таблица лучше отображает долю желающих перехать в другой город, от уровня развитости города"
   ]
  },
  {
   "cell_type": "code",
   "execution_count": 33,
   "id": "3dacacab",
   "metadata": {},
   "outputs": [],
   "source": [
    "t = df.groupby('city_development_index_group_q', dropna = False)['target'].agg(['count', 'mean'])\\\n",
    "                                                    .sort_values('mean', ascending = False)"
   ]
  },
  {
   "cell_type": "code",
   "execution_count": 34,
   "id": "6a393563",
   "metadata": {},
   "outputs": [
    {
     "data": {
      "text/plain": [
       "<Axes: xlabel='city_development_index_group_q'>"
      ]
     },
     "execution_count": 34,
     "metadata": {},
     "output_type": "execute_result"
    },
    {
     "data": {
      "image/png": "[encoded data removed]",
      "text/plain": [
       "<Figure size 640x480 with 1 Axes>"
      ]
     },
     "metadata": {},
     "output_type": "display_data"
    }
   ],
   "source": [
    "t['mean'].plot()"
   ]
  },
  {
   "cell_type": "markdown",
   "id": "a166b7b7",
   "metadata": {},
   "source": [
    "##### Чем выше индекс развитости города, тем меньше процент тех, кто хочет сменить работу"
   ]
  },
  {
   "cell_type": "markdown",
   "id": "53229625",
   "metadata": {},
   "source": [
    "#"
   ]
  },
  {
   "cell_type": "code",
   "execution_count": 35,
   "id": "c3e70af9",
   "metadata": {},
   "outputs": [
    {
     "data": {
      "text/html": [
       "<div>\n",
       "<style scoped>\n",
       "    .dataframe tbody tr th:only-of-type {\n",
       "        vertical-align: middle;\n",
       "    }\n",
       "\n",
       "    .dataframe tbody tr th {\n",
       "        vertical-align: top;\n",
       "    }\n",
       "\n",
       "    .dataframe thead th {\n",
       "        text-align: right;\n",
       "    }\n",
       "</style>\n",
       "<table border=\"1\" class=\"dataframe\">\n",
       "  <thead>\n",
       "    <tr style=\"text-align: right;\">\n",
       "      <th></th>\n",
       "      <th>count</th>\n",
       "      <th>mean</th>\n",
       "    </tr>\n",
       "    <tr>\n",
       "      <th>education_level</th>\n",
       "      <th></th>\n",
       "      <th></th>\n",
       "    </tr>\n",
       "  </thead>\n",
       "  <tbody>\n",
       "    <tr>\n",
       "      <th>Graduate</th>\n",
       "      <td>11598</td>\n",
       "      <td>0.279790</td>\n",
       "    </tr>\n",
       "    <tr>\n",
       "      <th>NaN</th>\n",
       "      <td>460</td>\n",
       "      <td>0.226087</td>\n",
       "    </tr>\n",
       "    <tr>\n",
       "      <th>Masters</th>\n",
       "      <td>4361</td>\n",
       "      <td>0.214400</td>\n",
       "    </tr>\n",
       "    <tr>\n",
       "      <th>High School</th>\n",
       "      <td>2017</td>\n",
       "      <td>0.195340</td>\n",
       "    </tr>\n",
       "    <tr>\n",
       "      <th>Phd</th>\n",
       "      <td>414</td>\n",
       "      <td>0.140097</td>\n",
       "    </tr>\n",
       "    <tr>\n",
       "      <th>Primary School</th>\n",
       "      <td>308</td>\n",
       "      <td>0.133117</td>\n",
       "    </tr>\n",
       "  </tbody>\n",
       "</table>\n",
       "</div>"
      ],
      "text/plain": [
       "                 count      mean\n",
       "education_level                 \n",
       "Graduate         11598  0.279790\n",
       "NaN                460  0.226087\n",
       "Masters           4361  0.214400\n",
       "High School       2017  0.195340\n",
       "Phd                414  0.140097\n",
       "Primary School     308  0.133117"
      ]
     },
     "execution_count": 35,
     "metadata": {},
     "output_type": "execute_result"
    }
   ],
   "source": [
    "df.groupby('education_level', dropna = False)['target'].agg(['count', 'mean']).sort_values('mean', ascending = False)"
   ]
  },
  {
   "cell_type": "code",
   "execution_count": 36,
   "id": "c83c9a98",
   "metadata": {},
   "outputs": [],
   "source": [
    "def education_group(x):                             #функция замены значений\n",
    "    if x in ['High School', 'Primary School']:\n",
    "        return 'School'\n",
    "    if x in ['Masters', 'Phd']:\n",
    "        return 'Masters_and_phd'\n",
    "    return x"
   ]
  },
  {
   "cell_type": "code",
   "execution_count": 37,
   "id": "b6df5531",
   "metadata": {},
   "outputs": [],
   "source": [
    "df['new_education_level'] = df['education_level'].apply(education_group) #создаем новый столбец с примененной функцией"
   ]
  },
  {
   "cell_type": "code",
   "execution_count": 38,
   "id": "848d4d27",
   "metadata": {},
   "outputs": [
    {
     "data": {
      "text/html": [
       "<div>\n",
       "<style scoped>\n",
       "    .dataframe tbody tr th:only-of-type {\n",
       "        vertical-align: middle;\n",
       "    }\n",
       "\n",
       "    .dataframe tbody tr th {\n",
       "        vertical-align: top;\n",
       "    }\n",
       "\n",
       "    .dataframe thead th {\n",
       "        text-align: right;\n",
       "    }\n",
       "</style>\n",
       "<table border=\"1\" class=\"dataframe\">\n",
       "  <thead>\n",
       "    <tr style=\"text-align: right;\">\n",
       "      <th></th>\n",
       "      <th>new_education_level</th>\n",
       "      <th>count</th>\n",
       "      <th>mean</th>\n",
       "    </tr>\n",
       "  </thead>\n",
       "  <tbody>\n",
       "    <tr>\n",
       "      <th>0</th>\n",
       "      <td>Graduate</td>\n",
       "      <td>11598</td>\n",
       "      <td>0.279790</td>\n",
       "    </tr>\n",
       "    <tr>\n",
       "      <th>1</th>\n",
       "      <td>NaN</td>\n",
       "      <td>460</td>\n",
       "      <td>0.226087</td>\n",
       "    </tr>\n",
       "    <tr>\n",
       "      <th>2</th>\n",
       "      <td>Masters_and_phd</td>\n",
       "      <td>4775</td>\n",
       "      <td>0.207958</td>\n",
       "    </tr>\n",
       "    <tr>\n",
       "      <th>3</th>\n",
       "      <td>School</td>\n",
       "      <td>2325</td>\n",
       "      <td>0.187097</td>\n",
       "    </tr>\n",
       "  </tbody>\n",
       "</table>\n",
       "</div>"
      ],
      "text/plain": [
       "  new_education_level  count      mean\n",
       "0            Graduate  11598  0.279790\n",
       "1                 NaN    460  0.226087\n",
       "2     Masters_and_phd   4775  0.207958\n",
       "3              School   2325  0.187097"
      ]
     },
     "execution_count": 38,
     "metadata": {},
     "output_type": "execute_result"
    }
   ],
   "source": [
    "df.groupby('new_education_level', dropna = False)['target'].agg(['count', 'mean']).sort_values('mean', ascending = False).reset_index()\n",
    "#'сгруппированная' сводная таблица"
   ]
  },
  {
   "cell_type": "code",
   "execution_count": 39,
   "id": "c80371d7",
   "metadata": {},
   "outputs": [],
   "source": [
    "df['new_education_level'] = df['new_education_level'].fillna('no_info') #заменил NaN на no_info в столбце new_education_level"
   ]
  },
  {
   "cell_type": "code",
   "execution_count": 40,
   "id": "4b55decf",
   "metadata": {},
   "outputs": [],
   "source": [
    "df['gender'] = df['gender'].fillna('no_info') #заменил NaN на no_info в столбце gender"
   ]
  },
  {
   "cell_type": "code",
   "execution_count": 41,
   "id": "a2881cbf",
   "metadata": {},
   "outputs": [],
   "source": [
    "t = df.pivot_table(index = 'new_education_level', columns = 'gender', values = 'target', aggfunc = [ 'mean'])\n",
    "#сводная таблица меодом pivot_table"
   ]
  },
  {
   "cell_type": "code",
   "execution_count": 42,
   "id": "c311e453",
   "metadata": {},
   "outputs": [
    {
     "data": {
      "text/html": [
       "<div>\n",
       "<style scoped>\n",
       "    .dataframe tbody tr th:only-of-type {\n",
       "        vertical-align: middle;\n",
       "    }\n",
       "\n",
       "    .dataframe tbody tr th {\n",
       "        vertical-align: top;\n",
       "    }\n",
       "\n",
       "    .dataframe thead tr th {\n",
       "        text-align: left;\n",
       "    }\n",
       "\n",
       "    .dataframe thead tr:last-of-type th {\n",
       "        text-align: right;\n",
       "    }\n",
       "</style>\n",
       "<table border=\"1\" class=\"dataframe\">\n",
       "  <thead>\n",
       "    <tr>\n",
       "      <th></th>\n",
       "      <th colspan=\"4\" halign=\"left\">mean</th>\n",
       "    </tr>\n",
       "    <tr>\n",
       "      <th>gender</th>\n",
       "      <th>Female</th>\n",
       "      <th>Male</th>\n",
       "      <th>Other</th>\n",
       "      <th>no_info</th>\n",
       "    </tr>\n",
       "    <tr>\n",
       "      <th>new_education_level</th>\n",
       "      <th></th>\n",
       "      <th></th>\n",
       "      <th></th>\n",
       "      <th></th>\n",
       "    </tr>\n",
       "  </thead>\n",
       "  <tbody>\n",
       "    <tr>\n",
       "      <th>Graduate</th>\n",
       "      <td>0.279431</td>\n",
       "      <td>0.257122</td>\n",
       "      <td>0.330357</td>\n",
       "      <td>0.349552</td>\n",
       "    </tr>\n",
       "    <tr>\n",
       "      <th>Masters_and_phd</th>\n",
       "      <td>0.233161</td>\n",
       "      <td>0.186284</td>\n",
       "      <td>0.096774</td>\n",
       "      <td>0.264942</td>\n",
       "    </tr>\n",
       "    <tr>\n",
       "      <th>School</th>\n",
       "      <td>0.267606</td>\n",
       "      <td>0.171464</td>\n",
       "      <td>0.205128</td>\n",
       "      <td>0.217180</td>\n",
       "    </tr>\n",
       "    <tr>\n",
       "      <th>no_info</th>\n",
       "      <td>0.125000</td>\n",
       "      <td>0.169421</td>\n",
       "      <td>0.222222</td>\n",
       "      <td>0.298507</td>\n",
       "    </tr>\n",
       "  </tbody>\n",
       "</table>\n",
       "</div>"
      ],
      "text/plain": [
       "                         mean                              \n",
       "gender                 Female      Male     Other   no_info\n",
       "new_education_level                                        \n",
       "Graduate             0.279431  0.257122  0.330357  0.349552\n",
       "Masters_and_phd      0.233161  0.186284  0.096774  0.264942\n",
       "School               0.267606  0.171464  0.205128  0.217180\n",
       "no_info              0.125000  0.169421  0.222222  0.298507"
      ]
     },
     "execution_count": 42,
     "metadata": {},
     "output_type": "execute_result"
    }
   ],
   "source": [
    "t"
   ]
  },
  {
   "cell_type": "code",
   "execution_count": 43,
   "id": "edbc8f33",
   "metadata": {},
   "outputs": [],
   "source": [
    "import seaborn as sns"
   ]
  },
  {
   "cell_type": "code",
   "execution_count": 44,
   "id": "fafe9518",
   "metadata": {},
   "outputs": [
    {
     "data": {
      "text/plain": [
       "<Axes: xlabel='None-gender', ylabel='new_education_level'>"
      ]
     },
     "execution_count": 44,
     "metadata": {},
     "output_type": "execute_result"
    },
    {
     "data": {
      "image/png": "[encoded data removed]",
      "text/plain": [
       "<Figure size 640x480 with 2 Axes>"
      ]
     },
     "metadata": {},
     "output_type": "display_data"
    }
   ],
   "source": [
    "sns.heatmap(t)"
   ]
  },
  {
   "cell_type": "code",
   "execution_count": 50,
   "id": "76bae088",
   "metadata": {},
   "outputs": [
    {
     "data": {
      "text/html": [
       "<div>\n",
       "<style scoped>\n",
       "    .dataframe tbody tr th:only-of-type {\n",
       "        vertical-align: middle;\n",
       "    }\n",
       "\n",
       "    .dataframe tbody tr th {\n",
       "        vertical-align: top;\n",
       "    }\n",
       "\n",
       "    .dataframe thead th {\n",
       "        text-align: right;\n",
       "    }\n",
       "</style>\n",
       "<table border=\"1\" class=\"dataframe\">\n",
       "  <thead>\n",
       "    <tr style=\"text-align: right;\">\n",
       "      <th></th>\n",
       "      <th>city_development_index</th>\n",
       "      <th>training_hours</th>\n",
       "      <th>target</th>\n",
       "    </tr>\n",
       "  </thead>\n",
       "  <tbody>\n",
       "    <tr>\n",
       "      <th>city_development_index</th>\n",
       "      <td>1.000000</td>\n",
       "      <td>0.001920</td>\n",
       "      <td>-0.341665</td>\n",
       "    </tr>\n",
       "    <tr>\n",
       "      <th>training_hours</th>\n",
       "      <td>0.001920</td>\n",
       "      <td>1.000000</td>\n",
       "      <td>-0.021577</td>\n",
       "    </tr>\n",
       "    <tr>\n",
       "      <th>target</th>\n",
       "      <td>-0.341665</td>\n",
       "      <td>-0.021577</td>\n",
       "      <td>1.000000</td>\n",
       "    </tr>\n",
       "  </tbody>\n",
       "</table>\n",
       "</div>"
      ],
      "text/plain": [
       "                        city_development_index  training_hours    target\n",
       "city_development_index                1.000000        0.001920 -0.341665\n",
       "training_hours                        0.001920        1.000000 -0.021577\n",
       "target                               -0.341665       -0.021577  1.000000"
      ]
     },
     "execution_count": 50,
     "metadata": {},
     "output_type": "execute_result"
    }
   ],
   "source": [
    "df[['city_development_index', 'training_hours', 'target']].corr() #линейная корреляция"
   ]
  },
  {
   "cell_type": "code",
   "execution_count": 46,
   "id": "221c293a",
   "metadata": {},
   "outputs": [
    {
     "data": {
      "text/plain": [
       "<Axes: >"
      ]
     },
     "execution_count": 46,
     "metadata": {},
     "output_type": "execute_result"
    },
    {
     "data": {
      "image/png": "[encoded data removed]",
      "text/plain": [
       "<Figure size 640x480 with 2 Axes>"
      ]
     },
     "metadata": {},
     "output_type": "display_data"
    }
   ],
   "source": [
    "sns.heatmap(df[['city_development_index', 'training_hours', 'target']].corr())"
   ]
  },
  {
   "cell_type": "code",
   "execution_count": 2,
   "id": "64dced14",
   "metadata": {},
   "outputs": [],
   "source": [
    "import phik\n",
    "from phik.report import plot_correlation_matrix\n",
    "from phik import report"
   ]
  },
  {
   "cell_type": "code",
   "execution_count": 47,
   "id": "a08a09fd",
   "metadata": {},
   "outputs": [
    {
     "name": "stdout",
     "output_type": "stream",
     "text": [
      "interval columns not set, guessing: ['enrollee_id', 'city_development_index', 'training_hours', 'target']\n"
     ]
    }
   ],
   "source": [
    "phik_overview = df.phik_matrix() #матрица зависимостей всех переменных"
   ]
  },
  {
   "cell_type": "code",
   "execution_count": 48,
   "id": "0e98b4f0",
   "metadata": {},
   "outputs": [
    {
     "data": {
      "text/html": [
       "<div>\n",
       "<style scoped>\n",
       "    .dataframe tbody tr th:only-of-type {\n",
       "        vertical-align: middle;\n",
       "    }\n",
       "\n",
       "    .dataframe tbody tr th {\n",
       "        vertical-align: top;\n",
       "    }\n",
       "\n",
       "    .dataframe thead th {\n",
       "        text-align: right;\n",
       "    }\n",
       "</style>\n",
       "<table border=\"1\" class=\"dataframe\">\n",
       "  <thead>\n",
       "    <tr style=\"text-align: right;\">\n",
       "      <th></th>\n",
       "      <th>enrollee_id</th>\n",
       "      <th>city</th>\n",
       "      <th>city_development_index</th>\n",
       "      <th>gender</th>\n",
       "      <th>relevent_experience</th>\n",
       "      <th>enrolled_university</th>\n",
       "      <th>education_level</th>\n",
       "      <th>major_discipline</th>\n",
       "      <th>experience</th>\n",
       "      <th>company_size</th>\n",
       "      <th>company_type</th>\n",
       "      <th>last_new_job</th>\n",
       "      <th>training_hours</th>\n",
       "      <th>target</th>\n",
       "      <th>city_development_index_group</th>\n",
       "      <th>city_development_index_group_q</th>\n",
       "      <th>new_education_level</th>\n",
       "    </tr>\n",
       "  </thead>\n",
       "  <tbody>\n",
       "    <tr>\n",
       "      <th>enrollee_id</th>\n",
       "      <td>1.000000</td>\n",
       "      <td>0.214019</td>\n",
       "      <td>0.125181</td>\n",
       "      <td>0.125045</td>\n",
       "      <td>0.073145</td>\n",
       "      <td>0.051188</td>\n",
       "      <td>0.076123</td>\n",
       "      <td>0.030968</td>\n",
       "      <td>0.086949</td>\n",
       "      <td>0.032956</td>\n",
       "      <td>0.022543</td>\n",
       "      <td>0.045252</td>\n",
       "      <td>0.021517</td>\n",
       "      <td>0.067472</td>\n",
       "      <td>0.118153</td>\n",
       "      <td>0.101484</td>\n",
       "      <td>0.051291</td>\n",
       "    </tr>\n",
       "    <tr>\n",
       "      <th>city</th>\n",
       "      <td>0.214019</td>\n",
       "      <td>1.000000</td>\n",
       "      <td>1.000000</td>\n",
       "      <td>0.235773</td>\n",
       "      <td>0.152621</td>\n",
       "      <td>0.376293</td>\n",
       "      <td>0.363706</td>\n",
       "      <td>0.178508</td>\n",
       "      <td>0.346552</td>\n",
       "      <td>0.249869</td>\n",
       "      <td>0.224174</td>\n",
       "      <td>0.240315</td>\n",
       "      <td>0.075165</td>\n",
       "      <td>0.477283</td>\n",
       "      <td>1.000000</td>\n",
       "      <td>1.000000</td>\n",
       "      <td>0.381579</td>\n",
       "    </tr>\n",
       "    <tr>\n",
       "      <th>city_development_index</th>\n",
       "      <td>0.125181</td>\n",
       "      <td>1.000000</td>\n",
       "      <td>1.000000</td>\n",
       "      <td>0.163535</td>\n",
       "      <td>0.101448</td>\n",
       "      <td>0.245979</td>\n",
       "      <td>0.224368</td>\n",
       "      <td>0.129083</td>\n",
       "      <td>0.307770</td>\n",
       "      <td>0.130592</td>\n",
       "      <td>0.112234</td>\n",
       "      <td>0.172067</td>\n",
       "      <td>0.000000</td>\n",
       "      <td>0.482287</td>\n",
       "      <td>1.000000</td>\n",
       "      <td>0.886906</td>\n",
       "      <td>0.174978</td>\n",
       "    </tr>\n",
       "    <tr>\n",
       "      <th>gender</th>\n",
       "      <td>0.125045</td>\n",
       "      <td>0.235773</td>\n",
       "      <td>0.163535</td>\n",
       "      <td>1.000000</td>\n",
       "      <td>0.175232</td>\n",
       "      <td>0.081010</td>\n",
       "      <td>0.051922</td>\n",
       "      <td>0.087460</td>\n",
       "      <td>0.202654</td>\n",
       "      <td>0.036975</td>\n",
       "      <td>0.073239</td>\n",
       "      <td>0.093596</td>\n",
       "      <td>0.009124</td>\n",
       "      <td>0.116653</td>\n",
       "      <td>0.114481</td>\n",
       "      <td>0.228761</td>\n",
       "      <td>0.151330</td>\n",
       "    </tr>\n",
       "    <tr>\n",
       "      <th>relevent_experience</th>\n",
       "      <td>0.073145</td>\n",
       "      <td>0.152621</td>\n",
       "      <td>0.101448</td>\n",
       "      <td>0.175232</td>\n",
       "      <td>1.000000</td>\n",
       "      <td>0.237586</td>\n",
       "      <td>0.259716</td>\n",
       "      <td>0.098661</td>\n",
       "      <td>0.500107</td>\n",
       "      <td>0.074259</td>\n",
       "      <td>0.284810</td>\n",
       "      <td>0.539529</td>\n",
       "      <td>0.020727</td>\n",
       "      <td>0.199859</td>\n",
       "      <td>0.059986</td>\n",
       "      <td>0.094370</td>\n",
       "      <td>0.466830</td>\n",
       "    </tr>\n",
       "    <tr>\n",
       "      <th>enrolled_university</th>\n",
       "      <td>0.051188</td>\n",
       "      <td>0.376293</td>\n",
       "      <td>0.245979</td>\n",
       "      <td>0.081010</td>\n",
       "      <td>0.237586</td>\n",
       "      <td>1.000000</td>\n",
       "      <td>0.215062</td>\n",
       "      <td>0.151561</td>\n",
       "      <td>0.434500</td>\n",
       "      <td>0.067175</td>\n",
       "      <td>0.231786</td>\n",
       "      <td>0.430596</td>\n",
       "      <td>0.000000</td>\n",
       "      <td>0.093803</td>\n",
       "      <td>0.174196</td>\n",
       "      <td>0.147038</td>\n",
       "      <td>0.153905</td>\n",
       "    </tr>\n",
       "    <tr>\n",
       "      <th>education_level</th>\n",
       "      <td>0.076123</td>\n",
       "      <td>0.363706</td>\n",
       "      <td>0.224368</td>\n",
       "      <td>0.051922</td>\n",
       "      <td>0.259716</td>\n",
       "      <td>0.215062</td>\n",
       "      <td>1.000000</td>\n",
       "      <td>0.104318</td>\n",
       "      <td>0.302908</td>\n",
       "      <td>0.082131</td>\n",
       "      <td>0.116321</td>\n",
       "      <td>0.253235</td>\n",
       "      <td>0.030104</td>\n",
       "      <td>0.075999</td>\n",
       "      <td>0.127624</td>\n",
       "      <td>0.119003</td>\n",
       "      <td>1.000000</td>\n",
       "    </tr>\n",
       "    <tr>\n",
       "      <th>major_discipline</th>\n",
       "      <td>0.030968</td>\n",
       "      <td>0.178508</td>\n",
       "      <td>0.129083</td>\n",
       "      <td>0.087460</td>\n",
       "      <td>0.098661</td>\n",
       "      <td>0.151561</td>\n",
       "      <td>0.104318</td>\n",
       "      <td>1.000000</td>\n",
       "      <td>0.116505</td>\n",
       "      <td>0.038923</td>\n",
       "      <td>0.089031</td>\n",
       "      <td>0.047317</td>\n",
       "      <td>0.000000</td>\n",
       "      <td>0.029200</td>\n",
       "      <td>0.101880</td>\n",
       "      <td>0.129442</td>\n",
       "      <td>0.084839</td>\n",
       "    </tr>\n",
       "    <tr>\n",
       "      <th>experience</th>\n",
       "      <td>0.086949</td>\n",
       "      <td>0.346552</td>\n",
       "      <td>0.307770</td>\n",
       "      <td>0.202654</td>\n",
       "      <td>0.500107</td>\n",
       "      <td>0.434500</td>\n",
       "      <td>0.302908</td>\n",
       "      <td>0.116505</td>\n",
       "      <td>1.000000</td>\n",
       "      <td>0.127647</td>\n",
       "      <td>0.112121</td>\n",
       "      <td>0.468247</td>\n",
       "      <td>0.000000</td>\n",
       "      <td>0.238725</td>\n",
       "      <td>0.335891</td>\n",
       "      <td>0.358784</td>\n",
       "      <td>0.308699</td>\n",
       "    </tr>\n",
       "    <tr>\n",
       "      <th>company_size</th>\n",
       "      <td>0.032956</td>\n",
       "      <td>0.249869</td>\n",
       "      <td>0.130592</td>\n",
       "      <td>0.036975</td>\n",
       "      <td>0.074259</td>\n",
       "      <td>0.067175</td>\n",
       "      <td>0.082131</td>\n",
       "      <td>0.038923</td>\n",
       "      <td>0.127647</td>\n",
       "      <td>1.000000</td>\n",
       "      <td>0.332074</td>\n",
       "      <td>0.102736</td>\n",
       "      <td>0.000000</td>\n",
       "      <td>0.071953</td>\n",
       "      <td>0.095912</td>\n",
       "      <td>0.150605</td>\n",
       "      <td>0.125750</td>\n",
       "    </tr>\n",
       "    <tr>\n",
       "      <th>company_type</th>\n",
       "      <td>0.022543</td>\n",
       "      <td>0.224174</td>\n",
       "      <td>0.112234</td>\n",
       "      <td>0.073239</td>\n",
       "      <td>0.284810</td>\n",
       "      <td>0.231786</td>\n",
       "      <td>0.116321</td>\n",
       "      <td>0.089031</td>\n",
       "      <td>0.112121</td>\n",
       "      <td>0.332074</td>\n",
       "      <td>1.000000</td>\n",
       "      <td>0.208470</td>\n",
       "      <td>0.017970</td>\n",
       "      <td>0.066792</td>\n",
       "      <td>0.085063</td>\n",
       "      <td>0.111799</td>\n",
       "      <td>0.086837</td>\n",
       "    </tr>\n",
       "    <tr>\n",
       "      <th>last_new_job</th>\n",
       "      <td>0.045252</td>\n",
       "      <td>0.240315</td>\n",
       "      <td>0.172067</td>\n",
       "      <td>0.093596</td>\n",
       "      <td>0.539529</td>\n",
       "      <td>0.430596</td>\n",
       "      <td>0.253235</td>\n",
       "      <td>0.047317</td>\n",
       "      <td>0.468247</td>\n",
       "      <td>0.102736</td>\n",
       "      <td>0.208470</td>\n",
       "      <td>1.000000</td>\n",
       "      <td>0.015103</td>\n",
       "      <td>0.114708</td>\n",
       "      <td>0.144716</td>\n",
       "      <td>0.178297</td>\n",
       "      <td>0.300357</td>\n",
       "    </tr>\n",
       "    <tr>\n",
       "      <th>training_hours</th>\n",
       "      <td>0.021517</td>\n",
       "      <td>0.075165</td>\n",
       "      <td>0.000000</td>\n",
       "      <td>0.009124</td>\n",
       "      <td>0.020727</td>\n",
       "      <td>0.000000</td>\n",
       "      <td>0.030104</td>\n",
       "      <td>0.000000</td>\n",
       "      <td>0.000000</td>\n",
       "      <td>0.000000</td>\n",
       "      <td>0.017970</td>\n",
       "      <td>0.015103</td>\n",
       "      <td>1.000000</td>\n",
       "      <td>0.026849</td>\n",
       "      <td>0.000000</td>\n",
       "      <td>0.000000</td>\n",
       "      <td>0.000000</td>\n",
       "    </tr>\n",
       "    <tr>\n",
       "      <th>target</th>\n",
       "      <td>0.067472</td>\n",
       "      <td>0.477283</td>\n",
       "      <td>0.482287</td>\n",
       "      <td>0.116653</td>\n",
       "      <td>0.199859</td>\n",
       "      <td>0.093803</td>\n",
       "      <td>0.075999</td>\n",
       "      <td>0.029200</td>\n",
       "      <td>0.238725</td>\n",
       "      <td>0.071953</td>\n",
       "      <td>0.066792</td>\n",
       "      <td>0.114708</td>\n",
       "      <td>0.026849</td>\n",
       "      <td>1.000000</td>\n",
       "      <td>0.302403</td>\n",
       "      <td>0.523691</td>\n",
       "      <td>0.132478</td>\n",
       "    </tr>\n",
       "    <tr>\n",
       "      <th>city_development_index_group</th>\n",
       "      <td>0.118153</td>\n",
       "      <td>1.000000</td>\n",
       "      <td>1.000000</td>\n",
       "      <td>0.114481</td>\n",
       "      <td>0.059986</td>\n",
       "      <td>0.174196</td>\n",
       "      <td>0.127624</td>\n",
       "      <td>0.101880</td>\n",
       "      <td>0.335891</td>\n",
       "      <td>0.095912</td>\n",
       "      <td>0.085063</td>\n",
       "      <td>0.144716</td>\n",
       "      <td>0.000000</td>\n",
       "      <td>0.302403</td>\n",
       "      <td>1.000000</td>\n",
       "      <td>0.778388</td>\n",
       "      <td>0.060844</td>\n",
       "    </tr>\n",
       "    <tr>\n",
       "      <th>city_development_index_group_q</th>\n",
       "      <td>0.101484</td>\n",
       "      <td>1.000000</td>\n",
       "      <td>0.886906</td>\n",
       "      <td>0.228761</td>\n",
       "      <td>0.094370</td>\n",
       "      <td>0.147038</td>\n",
       "      <td>0.119003</td>\n",
       "      <td>0.129442</td>\n",
       "      <td>0.358784</td>\n",
       "      <td>0.150605</td>\n",
       "      <td>0.111799</td>\n",
       "      <td>0.178297</td>\n",
       "      <td>0.000000</td>\n",
       "      <td>0.523691</td>\n",
       "      <td>0.778388</td>\n",
       "      <td>1.000000</td>\n",
       "      <td>0.219174</td>\n",
       "    </tr>\n",
       "    <tr>\n",
       "      <th>new_education_level</th>\n",
       "      <td>0.051291</td>\n",
       "      <td>0.381579</td>\n",
       "      <td>0.174978</td>\n",
       "      <td>0.151330</td>\n",
       "      <td>0.466830</td>\n",
       "      <td>0.153905</td>\n",
       "      <td>1.000000</td>\n",
       "      <td>0.084839</td>\n",
       "      <td>0.308699</td>\n",
       "      <td>0.125750</td>\n",
       "      <td>0.086837</td>\n",
       "      <td>0.300357</td>\n",
       "      <td>0.000000</td>\n",
       "      <td>0.132478</td>\n",
       "      <td>0.060844</td>\n",
       "      <td>0.219174</td>\n",
       "      <td>1.000000</td>\n",
       "    </tr>\n",
       "  </tbody>\n",
       "</table>\n",
       "</div>"
      ],
      "text/plain": [
       "                                enrollee_id      city  city_development_index  \\\n",
       "enrollee_id                        1.000000  0.214019                0.125181   \n",
       "city                               0.214019  1.000000                1.000000   \n",
       "city_development_index             0.125181  1.000000                1.000000   \n",
       "gender                             0.125045  0.235773                0.163535   \n",
       "relevent_experience                0.073145  0.152621                0.101448   \n",
       "enrolled_university                0.051188  0.376293                0.245979   \n",
       "education_level                    0.076123  0.363706                0.224368   \n",
       "major_discipline                   0.030968  0.178508                0.129083   \n",
       "experience                         0.086949  0.346552                0.307770   \n",
       "company_size                       0.032956  0.249869                0.130592   \n",
       "company_type                       0.022543  0.224174                0.112234   \n",
       "last_new_job                       0.045252  0.240315                0.172067   \n",
       "training_hours                     0.021517  0.075165                0.000000   \n",
       "target                             0.067472  0.477283                0.482287   \n",
       "city_development_index_group       0.118153  1.000000                1.000000   \n",
       "city_development_index_group_q     0.101484  1.000000                0.886906   \n",
       "new_education_level                0.051291  0.381579                0.174978   \n",
       "\n",
       "                                  gender  relevent_experience  \\\n",
       "enrollee_id                     0.125045             0.073145   \n",
       "city                            0.235773             0.152621   \n",
       "city_development_index          0.163535             0.101448   \n",
       "gender                          1.000000             0.175232   \n",
       "relevent_experience             0.175232             1.000000   \n",
       "enrolled_university             0.081010             0.237586   \n",
       "education_level                 0.051922             0.259716   \n",
       "major_discipline                0.087460             0.098661   \n",
       "experience                      0.202654             0.500107   \n",
       "company_size                    0.036975             0.074259   \n",
       "company_type                    0.073239             0.284810   \n",
       "last_new_job                    0.093596             0.539529   \n",
       "training_hours                  0.009124             0.020727   \n",
       "target                          0.116653             0.199859   \n",
       "city_development_index_group    0.114481             0.059986   \n",
       "city_development_index_group_q  0.228761             0.094370   \n",
       "new_education_level             0.151330             0.466830   \n",
       "\n",
       "                                enrolled_university  education_level  \\\n",
       "enrollee_id                                0.051188         0.076123   \n",
       "city                                       0.376293         0.363706   \n",
       "city_development_index                     0.245979         0.224368   \n",
       "gender                                     0.081010         0.051922   \n",
       "relevent_experience                        0.237586         0.259716   \n",
       "enrolled_university                        1.000000         0.215062   \n",
       "education_level                            0.215062         1.000000   \n",
       "major_discipline                           0.151561         0.104318   \n",
       "experience                                 0.434500         0.302908   \n",
       "company_size                               0.067175         0.082131   \n",
       "company_type                               0.231786         0.116321   \n",
       "last_new_job                               0.430596         0.253235   \n",
       "training_hours                             0.000000         0.030104   \n",
       "target                                     0.093803         0.075999   \n",
       "city_development_index_group               0.174196         0.127624   \n",
       "city_development_index_group_q             0.147038         0.119003   \n",
       "new_education_level                        0.153905         1.000000   \n",
       "\n",
       "                                major_discipline  experience  company_size  \\\n",
       "enrollee_id                             0.030968    0.086949      0.032956   \n",
       "city                                    0.178508    0.346552      0.249869   \n",
       "city_development_index                  0.129083    0.307770      0.130592   \n",
       "gender                                  0.087460    0.202654      0.036975   \n",
       "relevent_experience                     0.098661    0.500107      0.074259   \n",
       "enrolled_university                     0.151561    0.434500      0.067175   \n",
       "education_level                         0.104318    0.302908      0.082131   \n",
       "major_discipline                        1.000000    0.116505      0.038923   \n",
       "experience                              0.116505    1.000000      0.127647   \n",
       "company_size                            0.038923    0.127647      1.000000   \n",
       "company_type                            0.089031    0.112121      0.332074   \n",
       "last_new_job                            0.047317    0.468247      0.102736   \n",
       "training_hours                          0.000000    0.000000      0.000000   \n",
       "target                                  0.029200    0.238725      0.071953   \n",
       "city_development_index_group            0.101880    0.335891      0.095912   \n",
       "city_development_index_group_q          0.129442    0.358784      0.150605   \n",
       "new_education_level                     0.084839    0.308699      0.125750   \n",
       "\n",
       "                                company_type  last_new_job  training_hours  \\\n",
       "enrollee_id                         0.022543      0.045252        0.021517   \n",
       "city                                0.224174      0.240315        0.075165   \n",
       "city_development_index              0.112234      0.172067        0.000000   \n",
       "gender                              0.073239      0.093596        0.009124   \n",
       "relevent_experience                 0.284810      0.539529        0.020727   \n",
       "enrolled_university                 0.231786      0.430596        0.000000   \n",
       "education_level                     0.116321      0.253235        0.030104   \n",
       "major_discipline                    0.089031      0.047317        0.000000   \n",
       "experience                          0.112121      0.468247        0.000000   \n",
       "company_size                        0.332074      0.102736        0.000000   \n",
       "company_type                        1.000000      0.208470        0.017970   \n",
       "last_new_job                        0.208470      1.000000        0.015103   \n",
       "training_hours                      0.017970      0.015103        1.000000   \n",
       "target                              0.066792      0.114708        0.026849   \n",
       "city_development_index_group        0.085063      0.144716        0.000000   \n",
       "city_development_index_group_q      0.111799      0.178297        0.000000   \n",
       "new_education_level                 0.086837      0.300357        0.000000   \n",
       "\n",
       "                                  target  city_development_index_group  \\\n",
       "enrollee_id                     0.067472                      0.118153   \n",
       "city                            0.477283                      1.000000   \n",
       "city_development_index          0.482287                      1.000000   \n",
       "gender                          0.116653                      0.114481   \n",
       "relevent_experience             0.199859                      0.059986   \n",
       "enrolled_university             0.093803                      0.174196   \n",
       "education_level                 0.075999                      0.127624   \n",
       "major_discipline                0.029200                      0.101880   \n",
       "experience                      0.238725                      0.335891   \n",
       "company_size                    0.071953                      0.095912   \n",
       "company_type                    0.066792                      0.085063   \n",
       "last_new_job                    0.114708                      0.144716   \n",
       "training_hours                  0.026849                      0.000000   \n",
       "target                          1.000000                      0.302403   \n",
       "city_development_index_group    0.302403                      1.000000   \n",
       "city_development_index_group_q  0.523691                      0.778388   \n",
       "new_education_level             0.132478                      0.060844   \n",
       "\n",
       "                                city_development_index_group_q  \\\n",
       "enrollee_id                                           0.101484   \n",
       "city                                                  1.000000   \n",
       "city_development_index                                0.886906   \n",
       "gender                                                0.228761   \n",
       "relevent_experience                                   0.094370   \n",
       "enrolled_university                                   0.147038   \n",
       "education_level                                       0.119003   \n",
       "major_discipline                                      0.129442   \n",
       "experience                                            0.358784   \n",
       "company_size                                          0.150605   \n",
       "company_type                                          0.111799   \n",
       "last_new_job                                          0.178297   \n",
       "training_hours                                        0.000000   \n",
       "target                                                0.523691   \n",
       "city_development_index_group                          0.778388   \n",
       "city_development_index_group_q                        1.000000   \n",
       "new_education_level                                   0.219174   \n",
       "\n",
       "                                new_education_level  \n",
       "enrollee_id                                0.051291  \n",
       "city                                       0.381579  \n",
       "city_development_index                     0.174978  \n",
       "gender                                     0.151330  \n",
       "relevent_experience                        0.466830  \n",
       "enrolled_university                        0.153905  \n",
       "education_level                            1.000000  \n",
       "major_discipline                           0.084839  \n",
       "experience                                 0.308699  \n",
       "company_size                               0.125750  \n",
       "company_type                               0.086837  \n",
       "last_new_job                               0.300357  \n",
       "training_hours                             0.000000  \n",
       "target                                     0.132478  \n",
       "city_development_index_group               0.060844  \n",
       "city_development_index_group_q             0.219174  \n",
       "new_education_level                        1.000000  "
      ]
     },
     "execution_count": 48,
     "metadata": {},
     "output_type": "execute_result"
    }
   ],
   "source": [
    "phik_overview"
   ]
  },
  {
   "cell_type": "code",
   "execution_count": 51,
   "id": "2379a168",
   "metadata": {},
   "outputs": [
    {
     "data": {
      "text/plain": [
       "<Axes: >"
      ]
     },
     "execution_count": 51,
     "metadata": {},
     "output_type": "execute_result"
    },
    {
     "data": {
      "image/png": "[encoded data removed]",
      "text/plain": [
       "<Figure size 640x480 with 2 Axes>"
      ]
     },
     "metadata": {},
     "output_type": "display_data"
    }
   ],
   "source": [
    "sns.heatmap(phik_overview) #heatmap корреляций"
   ]
  },
  {
   "cell_type": "code",
   "execution_count": 53,
   "id": "c561c3c5",
   "metadata": {},
   "outputs": [
    {
     "data": {
      "text/plain": [
       "target                            1.000000\n",
       "city_development_index_group_q    0.523691\n",
       "city_development_index            0.482287\n",
       "city                              0.477283\n",
       "city_development_index_group      0.302403\n",
       "experience                        0.238725\n",
       "relevent_experience               0.199859\n",
       "new_education_level               0.132478\n",
       "gender                            0.116653\n",
       "last_new_job                      0.114708\n",
       "enrolled_university               0.093803\n",
       "education_level                   0.075999\n",
       "company_size                      0.071953\n",
       "enrollee_id                       0.067472\n",
       "company_type                      0.066792\n",
       "major_discipline                  0.029200\n",
       "training_hours                    0.026849\n",
       "Name: target, dtype: float64"
      ]
     },
     "execution_count": 53,
     "metadata": {},
     "output_type": "execute_result"
    }
   ],
   "source": [
    "phik_overview['target'].sort_values(ascending = False)"
   ]
  },
  {
   "cell_type": "markdown",
   "id": "210d63e9",
   "metadata": {},
   "source": [
    "##### видим что target сильно коррелирует с city_development_index, city "
   ]
  },
  {
   "cell_type": "markdown",
   "id": "64137b13",
   "metadata": {},
   "source": [
    "#"
   ]
  },
  {
   "cell_type": "code",
   "execution_count": 62,
   "id": "bf6bc993",
   "metadata": {},
   "outputs": [
    {
     "data": {
      "text/plain": [
       "<Axes: xlabel='city'>"
      ]
     },
     "execution_count": 62,
     "metadata": {},
     "output_type": "execute_result"
    },
    {
     "data": {
      "image/png": "[encoded data removed]",
      "text/plain": [
       "<Figure size 640x480 with 1 Axes>"
      ]
     },
     "metadata": {},
     "output_type": "display_data"
    }
   ],
   "source": [
    "df.groupby('city', dropna = False)['target'].agg(['count', 'mean']).sort_values('count', ascending = False).head(10)['mean'].plot(kind ='bar')"
   ]
  }
 ],
 "metadata": {
  "kernelspec": {
   "display_name": "Python 3 (ipykernel)",
   "language": "python",
   "name": "python3"
  },
  "language_info": {
   "codemirror_mode": {
    "name": "ipython",
    "version": 3
   },
   "file_extension": ".py",
   "mimetype": "text/x-python",
   "name": "python",
   "nbconvert_exporter": "python",
   "pygments_lexer": "ipython3",
   "version": "3.10.9"
  }
 },
 "nbformat": 4,
 "nbformat_minor": 5
}
